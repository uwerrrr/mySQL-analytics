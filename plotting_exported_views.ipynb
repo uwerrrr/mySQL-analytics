{
  "nbformat": 4,
  "nbformat_minor": 0,
  "metadata": {
    "colab": {
      "provenance": [],
      "mount_file_id": "1OB4XkiwRDLVLcRbHzmtzdvxNzMH-9_qM",
      "authorship_tag": "ABX9TyNsC38rq7IvhHr/KUXHSZen",
      "include_colab_link": true
    },
    "kernelspec": {
      "name": "python3",
      "display_name": "Python 3"
    },
    "language_info": {
      "name": "python"
    }
  },
  "cells": [
    {
      "cell_type": "markdown",
      "metadata": {
        "id": "view-in-github",
        "colab_type": "text"
      },
      "source": [
        "<a href=\"https://colab.research.google.com/github/uwerrrr/mySQL-analytics/blob/main/plotting_exported_views.ipynb\" target=\"_parent\"><img src=\"https://colab.research.google.com/assets/colab-badge.svg\" alt=\"Open In Colab\"/></a>"
      ]
    },
    {
      "cell_type": "markdown",
      "source": [
        "Import csv files containgin VIEWS exported from mySQL"
      ],
      "metadata": {
        "id": "7wvg0mSDEQdH"
      }
    },
    {
      "cell_type": "code",
      "execution_count": 1,
      "metadata": {
        "id": "_ADYU-OWEKQl"
      },
      "outputs": [],
      "source": [
        "import pandas as pd\n",
        "import matplotlib.pyplot as plt"
      ]
    },
    {
      "cell_type": "code",
      "source": [
        "total_rev_per_country = pd.read_csv('/content/total_rev_per_country.csv', names = ['CountryName', 'TotalRevenue'])\n",
        "monthly_rev_trend = pd.read_csv('/content/monthly_rev_trend.csv', names = ['Month', 'MonthlyRevenue'])\n",
        "invoice_totals = pd.read_csv('/content/invoice_totals.csv', names = ['InvoiceID', 'InvoiceTotal'])\n",
        "avg_invoice_amount = pd.read_csv('/content/avg_invoice_amount.csv', names = ['AverageInvoiceAmount'])\n"
      ],
      "metadata": {
        "id": "_YRrZF8XF7yY"
      },
      "execution_count": 20,
      "outputs": []
    },
    {
      "cell_type": "markdown",
      "source": [],
      "metadata": {
        "id": "7oPPtC99GVmw"
      }
    },
    {
      "cell_type": "code",
      "source": [
        "total_rev_per_country.info()"
      ],
      "metadata": {
        "colab": {
          "base_uri": "https://localhost:8080/"
        },
        "id": "vQKNOOGTGIWm",
        "outputId": "741e5c72-d41e-4761-8b4e-ba19c752777a"
      },
      "execution_count": 21,
      "outputs": [
        {
          "output_type": "stream",
          "name": "stdout",
          "text": [
            "<class 'pandas.core.frame.DataFrame'>\n",
            "RangeIndex: 37 entries, 0 to 36\n",
            "Data columns (total 2 columns):\n",
            " #   Column        Non-Null Count  Dtype  \n",
            "---  ------        --------------  -----  \n",
            " 0   CountryName   37 non-null     object \n",
            " 1   TotalRevenue  37 non-null     float64\n",
            "dtypes: float64(1), object(1)\n",
            "memory usage: 720.0+ bytes\n"
          ]
        }
      ]
    },
    {
      "cell_type": "code",
      "source": [
        "total_rev_per_country.head"
      ],
      "metadata": {
        "colab": {
          "base_uri": "https://localhost:8080/"
        },
        "id": "yH6uavLeI_2Q",
        "outputId": "ea771bc6-3cb8-45ea-a11f-125bdc2611de"
      },
      "execution_count": 22,
      "outputs": [
        {
          "output_type": "execute_result",
          "data": {
            "text/plain": [
              "<bound method NDFrame.head of                CountryName  TotalRevenue\n",
              "0         United Kingdom\\r  3.974986e+08\n",
              "1                Germany\\r  1.556358e+07\n",
              "2                 France\\r  1.144496e+07\n",
              "3                Belgium\\r  3.932064e+06\n",
              "4                  Spain\\r  2.985751e+06\n",
              "5               Portugal\\r  1.505706e+06\n",
              "6            Switzerland\\r  1.500339e+06\n",
              "7                Finland\\r  1.480976e+06\n",
              "8                   EIRE\\r  1.110317e+06\n",
              "9                 Norway\\r  7.870787e+05\n",
              "10               Austria\\r  7.807030e+05\n",
              "11             Australia\\r  7.668094e+05\n",
              "12                Sweden\\r  7.402703e+05\n",
              "13               Denmark\\r  6.807585e+05\n",
              "14                 Italy\\r  5.299989e+05\n",
              "15                Cyprus\\r  2.732469e+05\n",
              "16                Poland\\r  1.494776e+05\n",
              "17                 Malta\\r  1.393922e+05\n",
              "18    European Community\\r  1.232345e+05\n",
              "19                   RSA\\r  1.151888e+05\n",
              "20                Greece\\r  1.104522e+05\n",
              "21       Channel Islands\\r  9.712022e+04\n",
              "22             Singapore\\r  4.559819e+04\n",
              "23                Israel\\r  2.787414e+04\n",
              "24                Canada\\r  2.545475e+04\n",
              "25  United Arab Emirates\\r  2.028900e+04\n",
              "26               Iceland\\r  1.490982e+04\n",
              "27           Unspecified\\r  9.969270e+03\n",
              "28               Lebanon\\r  7.050950e+03\n",
              "29                   USA\\r  6.027660e+03\n",
              "30             Lithuania\\r  5.620760e+03\n",
              "31                Brazil\\r  5.036830e+03\n",
              "32        Czech Republic\\r  2.387920e+03\n",
              "33               Bahrain\\r  1.501560e+03\n",
              "34          Saudi Arabia\\r  4.503400e+02\n",
              "35                 Japan\\r -1.819655e+05\n",
              "36           Netherlands\\r -5.048233e+07>"
            ]
          },
          "metadata": {},
          "execution_count": 22
        }
      ]
    },
    {
      "cell_type": "code",
      "source": [
        "total_rev_per_country['country'] = total_rev_per_country['country'].str.strip()"
      ],
      "metadata": {
        "id": "dGbrCTbnKulJ"
      },
      "execution_count": 18,
      "outputs": []
    },
    {
      "cell_type": "code",
      "source": [],
      "metadata": {
        "id": "aJSvw2GOMbki"
      },
      "execution_count": null,
      "outputs": []
    }
  ]
}